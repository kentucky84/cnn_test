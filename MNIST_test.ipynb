{
  "nbformat": 4,
  "nbformat_minor": 0,
  "metadata": {
    "colab": {
      "provenance": [],
      "authorship_tag": "ABX9TyOZq4JEZKmuk8gEPolzKY1m",
      "include_colab_link": true
    },
    "kernelspec": {
      "name": "python3",
      "display_name": "Python 3"
    },
    "language_info": {
      "name": "python"
    },
    "gpuClass": "standard"
  },
  "cells": [
    {
      "cell_type": "markdown",
      "metadata": {
        "id": "view-in-github",
        "colab_type": "text"
      },
      "source": [
        "<a href=\"https://colab.research.google.com/github/kentucky84/cnn_test/blob/main/MNIST_test.ipynb\" target=\"_parent\"><img src=\"https://colab.research.google.com/assets/colab-badge.svg\" alt=\"Open In Colab\"/></a>"
      ]
    },
    {
      "cell_type": "markdown",
      "source": [
        "# 1. Library Import\n"
      ],
      "metadata": {
        "id": "JIUoxrQE3A6p"
      }
    },
    {
      "cell_type": "code",
      "source": [
        "from google.colab import drive\n",
        "drive.mount('/gdrive')"
      ],
      "metadata": {
        "colab": {
          "base_uri": "https://localhost:8080/"
        },
        "id": "3bTHqNtPtxQ2",
        "outputId": "5af6716e-bc70-4389-a3c6-940bb9daa430"
      },
      "execution_count": 1,
      "outputs": [
        {
          "output_type": "stream",
          "name": "stdout",
          "text": [
            "Mounted at /gdrive\n"
          ]
        }
      ]
    },
    {
      "cell_type": "code",
      "source": [
        "cd '/gdrive/MyDrive/Colab Notebooks/CNN_TEST'"
      ],
      "metadata": {
        "colab": {
          "base_uri": "https://localhost:8080/"
        },
        "id": "sxGjJoZkukmj",
        "outputId": "55dd2eb0-60a5-47fa-a403-1d7c4d1af204"
      },
      "execution_count": 2,
      "outputs": [
        {
          "output_type": "stream",
          "name": "stdout",
          "text": [
            "/gdrive/MyDrive/Colab Notebooks/CNN_TEST\n"
          ]
        }
      ]
    },
    {
      "cell_type": "code",
      "source": [
        "!echo \"# CNN_TEST\" >> readme.md\n",
        "!git init\n",
        "!git config --global user.email \"kentucky84@naver.com\"\n",
        "!git config --global user.name \"kentucky84\"\n",
        "!git add readme.md\n",
        "!git commit -m \"first commit\"\n",
        "# !git branch -M main"
      ],
      "metadata": {
        "colab": {
          "base_uri": "https://localhost:8080/"
        },
        "id": "UvXhENR-u8E7",
        "outputId": "319180e1-740c-4029-be69-59ee9a072e9f"
      },
      "execution_count": 3,
      "outputs": [
        {
          "output_type": "stream",
          "name": "stdout",
          "text": [
            "Initialized empty Git repository in /gdrive/MyDrive/Colab Notebooks/CNN_TEST/.git/\n",
            "[master (root-commit) 5937991] first commit\n",
            " 1 file changed, 2 insertions(+)\n",
            " create mode 100644 readme.md\n"
          ]
        }
      ]
    },
    {
      "cell_type": "code",
      "source": [
        "!git remote add origin git@github.com:kentucky84/cnn_test.git"
      ],
      "metadata": {
        "id": "pEAxaDDjd-uY"
      },
      "execution_count": 23,
      "outputs": []
    },
    {
      "cell_type": "code",
      "execution_count": null,
      "metadata": {
        "id": "i9bcZiV52uVH"
      },
      "outputs": [],
      "source": [
        "import sklearn\n",
        "from sklearn.model_selection import train_test_split  "
      ]
    },
    {
      "cell_type": "code",
      "source": [
        "!git push --set-upstream origin main"
      ],
      "metadata": {
        "colab": {
          "base_uri": "https://localhost:8080/"
        },
        "id": "vRhKCHtSfyEs",
        "outputId": "8ae27215-1d81-4b63-96be-f4d6389a3fa0"
      },
      "execution_count": 38,
      "outputs": [
        {
          "output_type": "stream",
          "name": "stdout",
          "text": [
            "Host key verification failed.\r\n",
            "fatal: Could not read from remote repository.\n",
            "\n",
            "Please make sure you have the correct access rights\n",
            "and the repository exists.\n"
          ]
        }
      ]
    },
    {
      "cell_type": "code",
      "source": [
        "!ssh-keygen -t rsa -C \"kentucky84@naver.com\""
      ],
      "metadata": {
        "colab": {
          "base_uri": "https://localhost:8080/"
        },
        "id": "w7g1ta-bqJZ4",
        "outputId": "44a904b0-5607-4dbd-c2da-48a047e24209"
      },
      "execution_count": 34,
      "outputs": [
        {
          "output_type": "stream",
          "name": "stdout",
          "text": [
            "Generating public/private rsa key pair.\n",
            "Enter file in which to save the key (/root/.ssh/id_rsa): \n",
            "Enter passphrase (empty for no passphrase): \n",
            "Enter same passphrase again: \n",
            "Your identification has been saved in /root/.ssh/id_rsa.\n",
            "Your public key has been saved in /root/.ssh/id_rsa.pub.\n",
            "The key fingerprint is:\n",
            "SHA256:eJte7W1rktlG3k4Jl8xu0czwZpPAFib14gReH7lOPU4 kentucky84@naver.com\n",
            "The key's randomart image is:\n",
            "+---[RSA 2048]----+\n",
            "|           o.= ..|\n",
            "|          . * +..|\n",
            "|           . *.oo|\n",
            "|       .    + =E=|\n",
            "|      . S    o=OO|\n",
            "|       . o .  ==+|\n",
            "|        o . .* =.|\n",
            "|       . . .+.B..|\n",
            "|        .   .=oo.|\n",
            "+----[SHA256]-----+\n"
          ]
        }
      ]
    },
    {
      "cell_type": "code",
      "source": [
        "!cat ~/.ssh/id_rsa.pub"
      ],
      "metadata": {
        "colab": {
          "base_uri": "https://localhost:8080/"
        },
        "id": "tSHW8LYeqj3Y",
        "outputId": "b2dd887f-7069-4a7c-f0aa-bc1eae567b3b"
      },
      "execution_count": 37,
      "outputs": [
        {
          "output_type": "stream",
          "name": "stdout",
          "text": [
            "ssh-rsa AAAAB3NzaC1yc2EAAAADAQABAAABAQCwrerlpB9yVw4qRNS/mg38IiJaHRa5nronmxNKowDoV1Lill1ilTLi7sheMwP55dDNFWR6lQn/uzlPPbTgFCxoIjXj5FHDHrQjEGrv95crtSM9K9FiU4JVUyQszhgKCRQyGmLpfThClK0RcvaFW/+B71KVmUs1zXB6y0TKoE/jg6F8K8zvUkjAyXfNFqWYV6IT7A3BcJ/qkW95aO1wHjyRUH8eeOT5MZ3pi14W6462ZEW4LJrmNnH2Ys646afSFEsozIgv3l+/jFZ3Ix7Jw/qI8+it3B8Q0NIKVo6PWmuFOmVAbaVIP9Nrj2spcTXc3wZd0RUPh6jSFa1vZ2B8dff1 kentucky84@naver.com\n"
          ]
        }
      ]
    },
    {
      "cell_type": "code",
      "source": [
        "import torch\n",
        "import torchvision\n",
        "from torchvision import datasets"
      ],
      "metadata": {
        "id": "n_DditZd3Zzn"
      },
      "execution_count": null,
      "outputs": []
    },
    {
      "cell_type": "code",
      "source": [
        "data_mnist = datasets.MNIST(download = True, root = 'mnist')\n"
      ],
      "metadata": {
        "id": "EN92PkhR4PKv"
      },
      "execution_count": null,
      "outputs": []
    },
    {
      "cell_type": "code",
      "source": [
        "print(type(data_mnist))"
      ],
      "metadata": {
        "colab": {
          "base_uri": "https://localhost:8080/"
        },
        "id": "lSnetO0F5dMW",
        "outputId": "46ec7b6b-e2f8-4d1a-8759-2578c3cc32f1"
      },
      "execution_count": null,
      "outputs": [
        {
          "output_type": "stream",
          "name": "stdout",
          "text": [
            "<class 'torchvision.datasets.mnist.MNIST'>\n"
          ]
        }
      ]
    },
    {
      "cell_type": "code",
      "source": [
        "data_target = data_mnist.targets"
      ],
      "metadata": {
        "id": "L6rcMDQK5ow3"
      },
      "execution_count": null,
      "outputs": []
    },
    {
      "cell_type": "code",
      "source": [
        "len(data_target.shape)"
      ],
      "metadata": {
        "colab": {
          "base_uri": "https://localhost:8080/"
        },
        "id": "LYRSKea_51iZ",
        "outputId": "40cdd1bb-ddd4-4c62-c1d9-4b128486eed8"
      },
      "execution_count": null,
      "outputs": [
        {
          "output_type": "execute_result",
          "data": {
            "text/plain": [
              "1"
            ]
          },
          "metadata": {},
          "execution_count": 32
        }
      ]
    },
    {
      "cell_type": "code",
      "source": [
        "t_x = data_mnist.train_data\n",
        "t_y = data_mnist.targets\n"
      ],
      "metadata": {
        "id": "cxj2JRkh545l",
        "colab": {
          "base_uri": "https://localhost:8080/"
        },
        "outputId": "73812969-ff4f-4fa6-a13a-8d9e9a21ed65"
      },
      "execution_count": null,
      "outputs": [
        {
          "output_type": "stream",
          "name": "stderr",
          "text": [
            "/usr/local/lib/python3.7/dist-packages/torchvision/datasets/mnist.py:75: UserWarning: train_data has been renamed data\n",
            "  warnings.warn(\"train_data has been renamed data\")\n"
          ]
        }
      ]
    },
    {
      "cell_type": "code",
      "source": [
        "import matplotlib.pyplot as plt\n",
        "plt.imshow(t_x[0], cmap = 'gray', )\n",
        "plt.title(f'Labels : {t_y[0]}')\n",
        "plt.show()"
      ],
      "metadata": {
        "colab": {
          "base_uri": "https://localhost:8080/",
          "height": 281
        },
        "id": "OgRiTwDi80nv",
        "outputId": "39e79c55-aec2-4f39-d8d2-fe2671c5b14f"
      },
      "execution_count": null,
      "outputs": [
        {
          "output_type": "display_data",
          "data": {
            "text/plain": [
              "<Figure size 432x288 with 1 Axes>"
            ],
            "image/png": "[encoded data removed]"
          },
          "metadata": {
            "needs_background": "light"
          }
        }
      ]
    },
    {
      "cell_type": "code",
      "source": [
        "x_train[0].shape\n"
      ],
      "metadata": {
        "colab": {
          "base_uri": "https://localhost:8080/"
        },
        "id": "FUTXcqK99En3",
        "outputId": "13fcdf88-59fd-427d-97fa-630a2c9eb437"
      },
      "execution_count": null,
      "outputs": [
        {
          "output_type": "execute_result",
          "data": {
            "text/plain": [
              "torch.Size([28, 28])"
            ]
          },
          "metadata": {},
          "execution_count": 14
        }
      ]
    },
    {
      "cell_type": "code",
      "source": [
        "x_train, x_test, y_train, y_test = train_test_split(t_x, t_y, train_size = 0.8, random_state = 111, shuffle = True)"
      ],
      "metadata": {
        "id": "a5dQH7Qz_3y1"
      },
      "execution_count": null,
      "outputs": []
    },
    {
      "cell_type": "code",
      "source": [
        "len(x_train)"
      ],
      "metadata": {
        "colab": {
          "base_uri": "https://localhost:8080/"
        },
        "id": "xu6owGFw_5KK",
        "outputId": "5e74a16a-e265-4749-8915-8157b120b8ac"
      },
      "execution_count": null,
      "outputs": [
        {
          "output_type": "execute_result",
          "data": {
            "text/plain": [
              "48000"
            ]
          },
          "metadata": {},
          "execution_count": 37
        }
      ]
    },
    {
      "cell_type": "code",
      "source": [
        "import torch.nn as nn\n",
        "from torch.utils.data import DataLoader"
      ],
      "metadata": {
        "id": "T-X3TkcX_5dU"
      },
      "execution_count": null,
      "outputs": []
    },
    {
      "cell_type": "code",
      "source": [
        "batch_size = 16\n",
        "train_loader = DataLoader(dataset = (y_train, x_train),\n",
        "                          batch_size = batch_size,\n",
        "                          shuffle = True)\n"
      ],
      "metadata": {
        "id": "vVA36mCJ_5o5"
      },
      "execution_count": null,
      "outputs": []
    },
    {
      "cell_type": "code",
      "source": [
        "test_loader = DataLoader(dataset = (y_test, x_test),\n",
        "                         batch_size = batch_size,\n",
        "                         shuffle = True)"
      ],
      "metadata": {
        "id": "Byp6CHVdBZ1y"
      },
      "execution_count": null,
      "outputs": []
    },
    {
      "cell_type": "code",
      "source": [
        "first_batch"
      ],
      "metadata": {
        "id": "GV7Z683kB0vm"
      },
      "execution_count": null,
      "outputs": []
    }
  ]
}